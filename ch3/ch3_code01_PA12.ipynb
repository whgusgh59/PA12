{
  "nbformat": 4,
  "nbformat_minor": 0,
  "metadata": {
    "colab": {
      "name": "ch3_code01-PA12.ipynb",
      "provenance": [],
      "collapsed_sections": []
    },
    "kernelspec": {
      "display_name": "Python 3",
      "language": "python",
      "name": "python3"
    },
    "language_info": {
      "codemirror_mode": {
        "name": "ipython",
        "version": 3
      },
      "file_extension": ".py",
      "mimetype": "text/x-python",
      "name": "python",
      "nbconvert_exporter": "python",
      "pygments_lexer": "ipython3",
      "version": "3.7.5"
    }
  },
  "cells": [
    {
      "cell_type": "markdown",
      "metadata": {
        "id": "H4jNE-BMAK3f"
      },
      "source": [
        "# ch3_code01-PA12.ipynb\n",
        "## py12  (change to your id)\n",
        "- 조건문: if - elif - else\n",
        "    - 조건식\n",
        "        - 비교연산자(<, >, ==, !=, >=, <=) 사용\n",
        "        - 복합 조건식: or, and, not\n",
        "        - 조건식: in, not in, pass\n",
        "        - 단축조건식: 한 줄 코드 조건식\n",
        "- 반복문: while\n",
        "    - break\n",
        "    - continue"
      ]
    },
    {
      "cell_type": "markdown",
      "metadata": {
        "id": "tFaJXxSYqlPp"
      },
      "source": [
        "### 코드셀 분할 단축키\n",
        "- how to do ?"
      ]
    },
    {
      "cell_type": "code",
      "metadata": {
        "id": "hXPcvn1CtW6z",
        "colab": {
          "base_uri": "https://localhost:8080/"
        },
        "outputId": "37cb6544-d331-40d4-8a70-0ffdfb93eb76"
      },
      "source": [
        "# ch3_01_if_else.py\n",
        "#\n",
        "print(\"if문은 어떻게 사용?\")\n",
        "money = True\n",
        "if money:\n",
        "    print(\"택시를 타고 가라\")\n",
        "else:\n",
        "    print(\"걸어 가라\")\n"
      ],
      "execution_count": 2,
      "outputs": [
        {
          "output_type": "stream",
          "text": [
            "if문은 어떻게 사용?\n",
            "택시를 타고 가라\n"
          ],
          "name": "stdout"
        }
      ]
    },
    {
      "cell_type": "markdown",
      "metadata": {
        "id": "v8N0XjL6-QM5"
      },
      "source": [
        "## if문의 기본 구조"
      ]
    },
    {
      "cell_type": "code",
      "metadata": {
        "id": "eRS1yvdo92Zl"
      },
      "source": [
        "\n",
        "\n",
        "############################\n",
        "print(\"if문의 기본 구조\")\n",
        "'''\n",
        "if 조건문:\n",
        "    수행할 문장1\n",
        "    수행할 문장2\n",
        "    ...\n",
        "else:\n",
        "    수행할 문장A\n",
        "    수행할 문장B\n",
        "    ...\n",
        "'''\n",
        "#\n",
        "############################\n"
      ],
      "execution_count": null,
      "outputs": []
    },
    {
      "cell_type": "markdown",
      "metadata": {
        "id": "ehWFAIXy-UOY"
      },
      "source": [
        "## 들여 쓰기"
      ]
    },
    {
      "cell_type": "code",
      "metadata": {
        "colab": {
          "base_uri": "https://localhost:8080/"
        },
        "id": "z15akkq5-LDU",
        "outputId": "109e618a-e8ee-49c0-bb71-ebf45887eaf6"
      },
      "source": [
        "\n",
        "print(\"들여 쓰기\")\n",
        "# 예-1\n",
        "money = True\n",
        "if money:\n",
        "    print(\"택시를\")\n",
        "print(\"타고\")\n",
        "print(\"가라\")\n"
      ],
      "execution_count": 3,
      "outputs": [
        {
          "output_type": "stream",
          "text": [
            "들여 쓰기\n",
            "택시를\n",
            "타고\n",
            "가라\n"
          ],
          "name": "stdout"
        }
      ]
    },
    {
      "cell_type": "code",
      "metadata": {
        "colab": {
          "base_uri": "https://localhost:8080/"
        },
        "id": "OshGst7Q-MOr",
        "outputId": "3b34ad8d-8834-4a36-9e84-83ce12f2aaf5"
      },
      "source": [
        "#\n",
        "# 예-2\n",
        "money = True\n",
        "if money:\n",
        "    print(\"택시를\")\n",
        "    print(\"타고\")\n",
        "    print(\"가라\")\n",
        " "
      ],
      "execution_count": 4,
      "outputs": [
        {
          "output_type": "stream",
          "text": [
            "택시를\n",
            "타고\n",
            "가라\n"
          ],
          "name": "stdout"
        }
      ]
    },
    {
      "cell_type": "markdown",
      "metadata": {
        "id": "vTzE_iTi-8m8"
      },
      "source": [
        "## code scope(코드 적용 범위)\n",
        "\n",
        "##c.java\n",
        "- {...}\n",
        "\n",
        "## python\n",
        "-들여쓰기(indent)"
      ]
    },
    {
      "cell_type": "markdown",
      "metadata": {
        "id": "rfjclgr-_O2P"
      },
      "source": [
        "## 조건식: 비교연산자"
      ]
    },
    {
      "cell_type": "code",
      "metadata": {
        "colab": {
          "base_uri": "https://localhost:8080/"
        },
        "id": "3DKznrsi-cTs",
        "outputId": "c9772c89-c569-444a-caab-ce4e9fe55c53"
      },
      "source": [
        "###################################\n",
        "# 조건문 다음에 콜론(:)을 잊지 말자!\n",
        "###################################\n",
        "\n",
        "print(\"조건식: 비교연산자\")\n",
        "# 비교연산자(<, >, ==, !=, >=, <=)를 쓰는 방법\n",
        "x=3\n",
        "y=2\n",
        "x>y\n",
        "\n",
        "x<y\n",
        "x==y\n",
        "x!=y\n"
      ],
      "execution_count": 5,
      "outputs": [
        {
          "output_type": "stream",
          "text": [
            "조건식: 비교연산자\n"
          ],
          "name": "stdout"
        },
        {
          "output_type": "execute_result",
          "data": {
            "text/plain": [
              "True"
            ]
          },
          "metadata": {
            "tags": []
          },
          "execution_count": 5
        }
      ]
    },
    {
      "cell_type": "code",
      "metadata": {
        "colab": {
          "base_uri": "https://localhost:8080/"
        },
        "id": "6Fj-j1fc_RQo",
        "outputId": "b8c116a3-bcbc-482e-bcde-032e51775187"
      },
      "source": [
        "\n",
        "###################################\n",
        "# 조건식 만들기\n",
        "###################################\n",
        "# \"만약 3000원 이상의 돈을 가지고 있으면 택시를 타고 그렇지 않으면 걸어 가라.\"\n",
        "money = 2000\n",
        "if money >= 3000:\n",
        "    print(\"택시를 타고 가라\")\n",
        "else:\n",
        "    print(\"걸어가라\")\n",
        "\n"
      ],
      "execution_count": 6,
      "outputs": [
        {
          "output_type": "stream",
          "text": [
            "걸어가라\n"
          ],
          "name": "stdout"
        }
      ]
    },
    {
      "cell_type": "code",
      "metadata": {
        "colab": {
          "base_uri": "https://localhost:8080/"
        },
        "id": "i_KIk2sm_T2X",
        "outputId": "84a25825-d016-414c-ce9c-fe6ca98da48f"
      },
      "source": [
        "\n",
        "###################################\n",
        "# 복합 조건식: or, and, not\n",
        "###################################\n",
        "# 연산자\t설명\n",
        "# x or y  :\tx와 y 둘중에 하나만 참이면 참이다\n",
        "# x and y :\tx와 y 모두 참이어야 참이다\n",
        "# not x\t  : x가 거짓이면 참이다\n",
        "###################################\n",
        "# or 복합 조건식 이용\n",
        "# \"돈이 3000원 이상 있거나 카드가 있다면 택시를 타고 그렇지 않으면 걸어 가라.\"\n",
        "money = 2000\n",
        "card = True\n",
        "if money >= 3000 or card:\n",
        "    print(\"택시를 타고 가라\")\n",
        "else:\n",
        "    print(\"걸어가라\")\n"
      ],
      "execution_count": 7,
      "outputs": [
        {
          "output_type": "stream",
          "text": [
            "택시를 타고 가라\n"
          ],
          "name": "stdout"
        }
      ]
    },
    {
      "cell_type": "markdown",
      "metadata": {
        "id": "46pdHhC3_bqU"
      },
      "source": [
        "## 조건식:\n",
        "- in\n",
        "- not in"
      ]
    },
    {
      "cell_type": "code",
      "metadata": {
        "colab": {
          "base_uri": "https://localhost:8080/"
        },
        "id": "j1OIIg8d_Zov",
        "outputId": "eeb15f20-523d-411d-e7a7-f9cbd4fcb343"
      },
      "source": [
        "\n",
        "\n",
        "###################################\n",
        "# 조건식: in, not in\n",
        "###################################\n",
        "#   in\t          not in\n",
        "# x in 리스트\tx not in 리스트\n",
        "# x in 튜플\t    x not in 튜플\n",
        "# x in 문자열\tx not in 문자열\n",
        "###################################\n",
        "# list\n",
        "1 in [1, 2, 3]\n",
        "1 not in [1, 2, 3]\n",
        "# tuple\n",
        "'a' in ('a', 'b', 'c')\n",
        "# string\n",
        "'j' not in 'python'\n"
      ],
      "execution_count": 8,
      "outputs": [
        {
          "output_type": "execute_result",
          "data": {
            "text/plain": [
              "True"
            ]
          },
          "metadata": {
            "tags": []
          },
          "execution_count": 8
        }
      ]
    },
    {
      "cell_type": "code",
      "metadata": {
        "colab": {
          "base_uri": "https://localhost:8080/"
        },
        "id": "WluqSUvT_o7K",
        "outputId": "dbcd42bd-612c-4143-dcf6-99ddbd04b8c5"
      },
      "source": [
        "'a' in 'abcdefg'"
      ],
      "execution_count": 9,
      "outputs": [
        {
          "output_type": "execute_result",
          "data": {
            "text/plain": [
              "True"
            ]
          },
          "metadata": {
            "tags": []
          },
          "execution_count": 9
        }
      ]
    },
    {
      "cell_type": "code",
      "metadata": {
        "colab": {
          "base_uri": "https://localhost:8080/"
        },
        "id": "gYhm4ih0_kQy",
        "outputId": "08906dc3-ddb4-4792-84a8-e78d667f38e0"
      },
      "source": [
        "\n",
        "# in을 이용한 코드\n",
        "# \"만약 주머니에 돈이 있으면 택시를 타고, 없으면 걸어 가라.\"\n",
        "pocket = ['paper', 'cellphone', 'money']\n",
        "if 'money' in pocket:\n",
        "    print(\"택시를 타고 가라\")\n",
        "else:\n",
        "    print(\"걸어가라\")\n"
      ],
      "execution_count": 10,
      "outputs": [
        {
          "output_type": "stream",
          "text": [
            "택시를 타고 가라\n"
          ],
          "name": "stdout"
        }
      ]
    },
    {
      "cell_type": "code",
      "metadata": {
        "id": "25MUjJ7o_r7L"
      },
      "source": [
        "###################################\n",
        "# 조건식: pass\n",
        "###################################\n",
        "pocket = ['paper', 'cellphone', 'money']\n",
        "if 'money' in pocket:\n",
        "    # print(\"택시를 타고 가라\")\n",
        "    pass\n",
        "else:\n",
        "    print(\"걸어가라\")\n"
      ],
      "execution_count": 12,
      "outputs": []
    },
    {
      "cell_type": "markdown",
      "metadata": {
        "id": "IxBhnnNR_6U4"
      },
      "source": [
        "## 다중 조건식: elif\n",
        "##다양한 조건을 판단"
      ]
    },
    {
      "cell_type": "code",
      "metadata": {
        "colab": {
          "base_uri": "https://localhost:8080/"
        },
        "id": "ZPLEnd7-_z83",
        "outputId": "bf600f4d-2d8d-489f-c1b1-95cf5837a583"
      },
      "source": [
        "\n",
        "\n",
        "###################################\n",
        "# 다중 조건식: elif\n",
        "# 다양한 조건을 판단\n",
        "###################################\n",
        "# \"주머니에 돈이 있으면 택시를 타고, \n",
        "# 주머니에 돈은 없지만 카드가 있으면 택시를 타고, \n",
        "# 돈도 없고 카드도 없으면 걸어 가라.\"\n",
        "#\n",
        "pocket = ['paper', 'handphone']\n",
        "card = True\n",
        "if 'money' in pocket:\n",
        "    print(\"택시를 타고가라\")\n",
        "else:\n",
        "    if card:\n",
        "        print(\"택시를 타고가라\")\n",
        "    else:\n",
        "        print(\"걸어가라\")\n"
      ],
      "execution_count": 13,
      "outputs": [
        {
          "output_type": "stream",
          "text": [
            "택시를 타고가라\n"
          ],
          "name": "stdout"
        }
      ]
    },
    {
      "cell_type": "code",
      "metadata": {
        "colab": {
          "base_uri": "https://localhost:8080/"
        },
        "id": "bpWq7arIAFeP",
        "outputId": "6523a23f-b85c-4f29-ecef-5d57e1ac5a7d"
      },
      "source": [
        "\n",
        "# elif 이용한 코드\n",
        "pocket = ['paper', 'handphone']\n",
        "card = True\n",
        "if 'money' in pocket:\n",
        "    print(\"택시를 타고가라\")\n",
        "elif card:\n",
        "    print(\"택시를 타고가라\")\n",
        "else:\n",
        "    print(\"걸어가라\")\n"
      ],
      "execution_count": 14,
      "outputs": [
        {
          "output_type": "stream",
          "text": [
            "택시를 타고가라\n"
          ],
          "name": "stdout"
        }
      ]
    },
    {
      "cell_type": "code",
      "metadata": {
        "colab": {
          "base_uri": "https://localhost:8080/"
        },
        "id": "8xS7J10lAM5n",
        "outputId": "82b75185-3741-4af7-a9d1-bb59a9fd84c8"
      },
      "source": [
        "\n",
        "# elif 이용한 코드\n",
        "pocket = ['paper', 'handphone']\n",
        "card =  False #True\n",
        "if 'money' in pocket:\n",
        "    print(\"택시를 타고가라\")\n",
        "elif card:\n",
        "    print(\"택시를 타고가라\")\n",
        "else:\n",
        "    print(\"걸어가라\")"
      ],
      "execution_count": 15,
      "outputs": [
        {
          "output_type": "stream",
          "text": [
            "걸어가라\n"
          ],
          "name": "stdout"
        }
      ]
    },
    {
      "cell_type": "markdown",
      "metadata": {
        "id": "qjgJ4Hz4AO_8"
      },
      "source": [
        "## 단축코드 만들기\n",
        "- if문을 한 줄로 작성하기"
      ]
    },
    {
      "cell_type": "code",
      "metadata": {
        "id": "5KTuIDgbAHnm"
      },
      "source": [
        "\n",
        "\n",
        "###################################\n",
        "# if문을 한 줄로 작성하기\n",
        "###################################\n",
        "pocket = ['paper', 'cellphone', 'money']\n",
        "if 'money' in pocket:\n",
        "    pass\n",
        "else:\n",
        "    print(\"카드를 사용해라.\")\n"
      ],
      "execution_count": null,
      "outputs": []
    },
    {
      "cell_type": "code",
      "metadata": {
        "id": "862OQXX9AVUc"
      },
      "source": [
        "\n",
        "\n",
        "# 한줄 코드\n",
        "if 'money' in pocket: pass\n",
        "else: print(\"카드를 사용해라.\")\n"
      ],
      "execution_count": null,
      "outputs": []
    },
    {
      "cell_type": "code",
      "metadata": {
        "colab": {
          "base_uri": "https://localhost:8080/"
        },
        "id": "DheQejWWAWmC",
        "outputId": "d6fdeeb5-2b76-4b03-bef8-e240d66aee0e"
      },
      "source": [
        "\n",
        "\n",
        "######################################################\n",
        "# 조건부 표현식 (conditional expression)\n",
        "# 조건문이 참인 경우 if 조건문 else 조건문이 거짓인 경우\n",
        "######################################################\n",
        "score=80\n",
        "if score >= 60:\n",
        "    message = \"success\"\n",
        "else:\n",
        "    message = \"failure\"\n",
        "\n",
        "print(message)\n",
        "\n",
        "# 한줄 코드\n",
        "message = \"success\" if score >= 60 else \"failure\"\n",
        "print(message)\n"
      ],
      "execution_count": 16,
      "outputs": [
        {
          "output_type": "stream",
          "text": [
            "success\n",
            "success\n"
          ],
          "name": "stdout"
        }
      ]
    },
    {
      "cell_type": "markdown",
      "metadata": {
        "id": "w0dXpA_lBY72"
      },
      "source": [
        "## 반복문\n",
        "- while\n",
        "- for"
      ]
    },
    {
      "cell_type": "code",
      "metadata": {
        "id": "0Y0fMfkPtW62",
        "colab": {
          "base_uri": "https://localhost:8080/"
        },
        "outputId": "80b1113e-5ab6-4aff-e5e2-dac537276a9d"
      },
      "source": [
        "# ch3_02_whie.py\n",
        "#\n",
        "print(\"while 문은 어떻게 사용?\")\n",
        "# 반복해서 문장을 수행해야 할 경우 while문을 사용한다. \n",
        "# 그래서 while문을 반복문이라고도 부른다.\n",
        "\n",
        "############################\n",
        "print(\"while문의 기본 구조\")\n",
        "'''\n",
        "while <조건문>:\n",
        "    <수행할 문장1>\n",
        "    <수행할 문장2>\n",
        "    <수행할 문장3>\n",
        "    ...\n",
        "'''\n",
        "\n",
        "# \"열 번 찍어 안 넘어가는 나무 없다\"는 속담을 파이썬 프로그램으로 반복 실행\n",
        "treeHit = 0\n",
        "while treeHit < 10:\n",
        "    treeHit = treeHit +1\n",
        "    print(\"나무를 %d번 찍었습니다.\" % treeHit)\n",
        "    if treeHit == 10:\n",
        "        print(\"나무 넘어갑니다.\")\n"
      ],
      "execution_count": 19,
      "outputs": [
        {
          "output_type": "stream",
          "text": [
            "while 문은 어떻게 사용?\n",
            "while문의 기본 구조\n",
            "나무를 1번 찍었습니다.\n",
            "나무를 2번 찍었습니다.\n",
            "나무를 3번 찍었습니다.\n",
            "나무를 4번 찍었습니다.\n",
            "나무를 5번 찍었습니다.\n",
            "나무를 6번 찍었습니다.\n",
            "나무를 7번 찍었습니다.\n",
            "나무를 8번 찍었습니다.\n",
            "나무를 9번 찍었습니다.\n",
            "나무를 10번 찍었습니다.\n",
            "나무 넘어갑니다.\n"
          ],
          "name": "stdout"
        }
      ]
    },
    {
      "cell_type": "code",
      "metadata": {
        "colab": {
          "base_uri": "https://localhost:8080/"
        },
        "id": "8IlpDeM8BfZ2",
        "outputId": "b5a2743c-66a8-447e-a5ab-cec3dd9cf9bc"
      },
      "source": [
        "\n",
        "\n",
        "#\n",
        "############################\n",
        "print(\"while문 만들기\")\n",
        "#\n",
        "prompt = \"\"\"\n",
        "1. Add\n",
        "2. Del\n",
        "3. List\n",
        "4. Quit\n",
        "Enter number: \"\"\"\n",
        "\n",
        "number = 0\n",
        "while number != 4:\n",
        "    print(prompt)\n",
        "    number = int(input())\n"
      ],
      "execution_count": 21,
      "outputs": [
        {
          "output_type": "stream",
          "text": [
            "while문 만들기\n",
            "\n",
            "1. Add\n",
            "2. Del\n",
            "3. List\n",
            "4. Quit\n",
            "Enter number: \n",
            "1\n",
            "\n",
            "1. Add\n",
            "2. Del\n",
            "3. List\n",
            "4. Quit\n",
            "Enter number: \n",
            "2\n",
            "\n",
            "1. Add\n",
            "2. Del\n",
            "3. List\n",
            "4. Quit\n",
            "Enter number: \n",
            "4\n"
          ],
          "name": "stdout"
        }
      ]
    },
    {
      "cell_type": "code",
      "metadata": {
        "colab": {
          "base_uri": "https://localhost:8080/"
        },
        "id": "1LDsg4wDBtUu",
        "outputId": "c76da012-0188-496f-ace1-714d1934f510"
      },
      "source": [
        "\n",
        "\n",
        "#\n",
        "###################################\n",
        "print(\"while문 강제로 빠져나가기\")\n",
        "###################################\n",
        "# 커피 자판기 작동\n",
        "# 자판기가 제대로 작동하려면 커피가 얼마나 남았는지 항상 검사해야 한다. \n",
        "# 만약 커피가 떨어졌다면 판매를 중단하고 \"판매 중지\" 문구를 사용자에게 보여준다.\n",
        "#\n",
        "coffee = 10\n",
        "money = 300\n",
        "while money:\n",
        "    print(\"돈을 받았으니 커피를 줍니다.\")\n",
        "    coffee = coffee -1\n",
        "    print(\"남은 커피의 양은 %d개입니다.\" % coffee)\n",
        "    if coffee == 0:\n",
        "        print(\"커피가 다 떨어졌습니다. 판매를 중지합니다.\")\n",
        "        break\n"
      ],
      "execution_count": 22,
      "outputs": [
        {
          "output_type": "stream",
          "text": [
            "while문 강제로 빠져나가기\n",
            "돈을 받았으니 커피를 줍니다.\n",
            "남은 커피의 양은 9개입니다.\n",
            "돈을 받았으니 커피를 줍니다.\n",
            "남은 커피의 양은 8개입니다.\n",
            "돈을 받았으니 커피를 줍니다.\n",
            "남은 커피의 양은 7개입니다.\n",
            "돈을 받았으니 커피를 줍니다.\n",
            "남은 커피의 양은 6개입니다.\n",
            "돈을 받았으니 커피를 줍니다.\n",
            "남은 커피의 양은 5개입니다.\n",
            "돈을 받았으니 커피를 줍니다.\n",
            "남은 커피의 양은 4개입니다.\n",
            "돈을 받았으니 커피를 줍니다.\n",
            "남은 커피의 양은 3개입니다.\n",
            "돈을 받았으니 커피를 줍니다.\n",
            "남은 커피의 양은 2개입니다.\n",
            "돈을 받았으니 커피를 줍니다.\n",
            "남은 커피의 양은 1개입니다.\n",
            "돈을 받았으니 커피를 줍니다.\n",
            "남은 커피의 양은 0개입니다.\n",
            "커피가 다 떨어졌습니다. 판매를 중지합니다.\n"
          ],
          "name": "stdout"
        }
      ]
    },
    {
      "cell_type": "code",
      "metadata": {
        "colab": {
          "base_uri": "https://localhost:8080/"
        },
        "id": "_RWnxNwZCuzk",
        "outputId": "d461595a-3e7f-4122-9eb5-e605328ebe79"
      },
      "source": [
        "bool(300)"
      ],
      "execution_count": 23,
      "outputs": [
        {
          "output_type": "execute_result",
          "data": {
            "text/plain": [
              "True"
            ]
          },
          "metadata": {
            "tags": []
          },
          "execution_count": 23
        }
      ]
    },
    {
      "cell_type": "code",
      "metadata": {
        "id": "Zb0Vg0eYB-W3"
      },
      "source": [
        "###################################\n",
        "# coffee.py\n",
        "###################################\n",
        "\"\"\"\n",
        "coffee = 10\n",
        "while True:\n",
        "    money = int(input(\"돈을 넣어 주세요: \"))\n",
        "    if money == 300:\n",
        "        print(\"커피를 줍니다.\")\n",
        "        coffee = coffee -1\n",
        "    elif money > 300:\n",
        "        print(\"거스름돈 %d를 주고 커피를 줍니다.\" % (money -300))\n",
        "        coffee = coffee -1\n",
        "    else:\n",
        "        print(\"돈을 다시 돌려주고 커피를 주지 않습니다.\")\n",
        "        print(\"남은 커피의 양은 %d개 입니다.\" % coffee)\n",
        "    if coffee == 0:\n",
        "        print(\"커피가 다 떨어졌습니다. 판매를 중지 합니다.\")\n",
        "        break\n",
        "\"\"\"\n"
      ],
      "execution_count": null,
      "outputs": []
    },
    {
      "cell_type": "markdown",
      "metadata": {
        "id": "_T0E52EKC59R"
      },
      "source": [
        "###colab에서 python 소스 실행하기\n",
        "- run coffee.py"
      ]
    },
    {
      "cell_type": "code",
      "metadata": {
        "colab": {
          "base_uri": "https://localhost:8080/"
        },
        "id": "yGKt5liXDBOE",
        "outputId": "bc04893e-a649-4768-b617-185d9807175f"
      },
      "source": [
        "run coffee.py"
      ],
      "execution_count": 29,
      "outputs": [
        {
          "output_type": "stream",
          "text": [
            "ERROR:root:File `'coffee.py'` not found.\n"
          ],
          "name": "stderr"
        }
      ]
    },
    {
      "cell_type": "code",
      "metadata": {
        "id": "4mZxOCwADdcb"
      },
      "source": [
        "coffee = 10\n",
        "while True:\n",
        "    money = int(input(\"돈을 넣어 주세요: \"))\n",
        "    if money == 300:\n",
        "        print(\"커피를 줍니다.\")\n",
        "        coffee = coffee -1\n",
        "    elif money > 300:\n",
        "        print(\"거스름돈 %d를 주고 커피를 줍니다.\" % (money -300))\n",
        "        coffee = coffee -1\n",
        "    else:\n",
        "        print(\"돈을 다시 돌려주고 커피를 주지 않습니다.\")\n",
        "        print(\"남은 커피의 양은 %d개 입니다.\" % coffee)\n",
        "    if coffee == 0:\n",
        "        print(\"커피가 다 떨어졌습니다. 판매를 중지 합니다.\")\n",
        "        break\n"
      ],
      "execution_count": null,
      "outputs": []
    },
    {
      "cell_type": "markdown",
      "metadata": {
        "id": "V8Xbb6VIDor3"
      },
      "source": [
        "## continue 이용"
      ]
    },
    {
      "cell_type": "code",
      "metadata": {
        "colab": {
          "base_uri": "https://localhost:8080/"
        },
        "id": "A3ewWCIWCw-p",
        "outputId": "1a35cf69-4c22-424f-8c93-73a1df0bf416"
      },
      "source": [
        "\n",
        "#\n",
        "###################################\n",
        "print(\"while문의 맨 처음으로 돌아가기: continue\")\n",
        "###################################\n",
        "# while문을 빠져나가지 않고 while문의 맨 처음(조건문)으로 \n",
        "# 다시 돌아가게 만들고 싶은 경우가 생기게 된다. \n",
        "# 이때 사용하는 것이 바로 continue문이다.\n",
        "#\n",
        "# 1부터 10까지의 숫자 중에서 홀수만 출력하는 것을 while문을 사용해서 작성\n",
        "#\n",
        "a = 0\n",
        "while a < 10:\n",
        "    a = a + 1\n",
        "    if a % 2 == 0: continue\n",
        "    print(a)\n"
      ],
      "execution_count": 30,
      "outputs": [
        {
          "output_type": "stream",
          "text": [
            "while문의 맨 처음으로 돌아가기: continue\n",
            "1\n",
            "3\n",
            "5\n",
            "7\n",
            "9\n"
          ],
          "name": "stdout"
        }
      ]
    },
    {
      "cell_type": "code",
      "metadata": {
        "id": "QxDWbiJYDvHw"
      },
      "source": [
        "\n",
        "\n",
        "#\n",
        "###################################\n",
        "print(\"while문의 무한 루프\")\n",
        "###################################\n",
        "#\n",
        "\"\"\"\n",
        "while True: \n",
        "    수행할 문장1 \n",
        "    수행할 문장2\n",
        "    ...\n",
        "\"\"\"\n",
        "# 무한루프 코드의 예 (^C로 중지 !!!)\n",
        "while True:\n",
        "    print(\"Ctrl+C를 눌러야 while문을 빠져나갈 수 있습니다.\")\n",
        "\n"
      ],
      "execution_count": null,
      "outputs": []
    }
  ]
}