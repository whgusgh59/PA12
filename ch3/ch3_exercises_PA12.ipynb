{
  "nbformat": 4,
  "nbformat_minor": 0,
  "metadata": {
    "colab": {
      "name": "ch3_exercises-PA12.ipynb",
      "provenance": [],
      "collapsed_sections": []
    },
    "kernelspec": {
      "name": "python3",
      "display_name": "Python 3"
    }
  },
  "cells": [
    {
      "cell_type": "markdown",
      "metadata": {
        "id": "ovY5jkD5dpxE"
      },
      "source": [
        "## ch3-exercises-PA12.ipynb"
      ]
    },
    {
      "cell_type": "markdown",
      "metadata": {
        "id": "SZw6UnxQWYBe"
      },
      "source": [
        "## Q1.\n",
        "> 다음 코드의 결괏값은 무엇일까?\n",
        "\n",
        "```\n",
        "a = \"Life is too short, you need python\"\n",
        "if \"wife\" in a: print(\"wife\")\n",
        "elif \"python\" in a and \"you\" not in a: print(\"python\")\n",
        "elif \"shirt\" not in a: print(\"shirt\")\n",
        "elif \"need\" in a: print(\"need\")\n",
        "else: print(\"none\")\n",
        "\n",
        "```"
      ]
    },
    {
      "cell_type": "code",
      "metadata": {
        "id": "rUNNaqJPdg7B"
      },
      "source": [
        "# [Q1] Code  \n",
        "shirt\n"
      ],
      "execution_count": null,
      "outputs": []
    },
    {
      "cell_type": "markdown",
      "metadata": {
        "id": "re2-XrUYXF1m"
      },
      "source": [
        "## Q2.\n",
        "> while문을 사용해 1부터 1000까지의 자연수 중 3의 배수의 합을 구해 보자.\n"
      ]
    },
    {
      "cell_type": "code",
      "metadata": {
        "id": "5MBLUZ5WXF1q",
        "colab": {
          "base_uri": "https://localhost:8080/"
        },
        "outputId": "63379e51-36c8-48f6-c313-fd7c55246013"
      },
      "source": [
        "# [Q2] Code\n",
        "result = 0\n",
        "Num = 3\n",
        "counter = 1\n",
        "\n",
        "while counter <= 1000:\n",
        "  if counter % Num == 0:\n",
        "    result = result + counter\n",
        "  counter += 1\n",
        "\n",
        "print(result)"
      ],
      "execution_count": 2,
      "outputs": [
        {
          "output_type": "stream",
          "text": [
            "166833\n"
          ],
          "name": "stdout"
        }
      ]
    },
    {
      "cell_type": "markdown",
      "metadata": {
        "id": "UZy8lu_BXGnT"
      },
      "source": [
        "## Q3.\n",
        "> while문을 사용하여 다음과 같이 별(*)을 표시하는 프로그램을 작성해 보자.\n",
        "\n",
        "```\n",
        "*\n",
        "**\n",
        "***\n",
        "****\n",
        "*****\n",
        "\n",
        "```\n"
      ]
    },
    {
      "cell_type": "code",
      "metadata": {
        "id": "H9T_sXHzXGnW",
        "colab": {
          "base_uri": "https://localhost:8080/"
        },
        "outputId": "7dca8ebc-81f9-4101-f7a1-0c632649b401"
      },
      "source": [
        "# [Q3] Code\n",
        "starLine = 5\n",
        "counter = 1\n",
        "star = \"*\"\n",
        "\n",
        "while starLine >= counter:\n",
        "  print(star)\n",
        "  star = star + \"*\"\n",
        "  counter += 1"
      ],
      "execution_count": 3,
      "outputs": [
        {
          "output_type": "stream",
          "text": [
            "*\n",
            "**\n",
            "***\n",
            "****\n",
            "*****\n"
          ],
          "name": "stdout"
        }
      ]
    },
    {
      "cell_type": "markdown",
      "metadata": {
        "id": "fqypxxqTXHY7"
      },
      "source": [
        "## Q4.\n",
        "> for문을 사용해 1부터 100까지의 숫자를 출력해 보자.\n",
        "- 단순 for문 사용\n",
        "- 리스트 내포 사용"
      ]
    },
    {
      "cell_type": "code",
      "metadata": {
        "id": "oQ5UnmayXHY-",
        "colab": {
          "base_uri": "https://localhost:8080/"
        },
        "outputId": "d2c1c3cc-8c48-4561-a80e-32fa1007f013"
      },
      "source": [
        "# [Q4] Code\n",
        "Num =[1] \n",
        "result = [Num + 1 for Num in range(100)]\n",
        "\n",
        "for i in result:\n",
        "  print(i);"
      ],
      "execution_count": 4,
      "outputs": [
        {
          "output_type": "stream",
          "text": [
            "1\n",
            "2\n",
            "3\n",
            "4\n",
            "5\n",
            "6\n",
            "7\n",
            "8\n",
            "9\n",
            "10\n",
            "11\n",
            "12\n",
            "13\n",
            "14\n",
            "15\n",
            "16\n",
            "17\n",
            "18\n",
            "19\n",
            "20\n",
            "21\n",
            "22\n",
            "23\n",
            "24\n",
            "25\n",
            "26\n",
            "27\n",
            "28\n",
            "29\n",
            "30\n",
            "31\n",
            "32\n",
            "33\n",
            "34\n",
            "35\n",
            "36\n",
            "37\n",
            "38\n",
            "39\n",
            "40\n",
            "41\n",
            "42\n",
            "43\n",
            "44\n",
            "45\n",
            "46\n",
            "47\n",
            "48\n",
            "49\n",
            "50\n",
            "51\n",
            "52\n",
            "53\n",
            "54\n",
            "55\n",
            "56\n",
            "57\n",
            "58\n",
            "59\n",
            "60\n",
            "61\n",
            "62\n",
            "63\n",
            "64\n",
            "65\n",
            "66\n",
            "67\n",
            "68\n",
            "69\n",
            "70\n",
            "71\n",
            "72\n",
            "73\n",
            "74\n",
            "75\n",
            "76\n",
            "77\n",
            "78\n",
            "79\n",
            "80\n",
            "81\n",
            "82\n",
            "83\n",
            "84\n",
            "85\n",
            "86\n",
            "87\n",
            "88\n",
            "89\n",
            "90\n",
            "91\n",
            "92\n",
            "93\n",
            "94\n",
            "95\n",
            "96\n",
            "97\n",
            "98\n",
            "99\n",
            "100\n"
          ],
          "name": "stdout"
        }
      ]
    },
    {
      "cell_type": "markdown",
      "metadata": {
        "id": "NKsvciXZXIL-"
      },
      "source": [
        "## Q5.\n",
        "> A 학급에 총 10명의 학생이 있다. 이 학생들의 중간고사 점수는 다음과 같다.\n",
        "\n",
        "- [70, 60, 55, 75, 95, 90, 80, 80, 85, 100]\n",
        "\n",
        "- for문을 사용하여 A 학급의 평균 점수를 구해 보자."
      ]
    },
    {
      "cell_type": "code",
      "metadata": {
        "id": "5MZQYOVjXIL_",
        "colab": {
          "base_uri": "https://localhost:8080/"
        },
        "outputId": "5acc47d3-d3ee-48bc-8cd3-8d2248e987c1"
      },
      "source": [
        "# [Q5] Code\n",
        "test_result = [70, 60, 55, 75, 95, 90, 80, 80, 85, 100]\n",
        "sum = 0\n",
        "\n",
        "for i in test_result:\n",
        "  sum = sum + int(i)\n",
        "\n",
        "sum = sum / len(test_result)\n",
        "\n",
        "print(int(sum))"
      ],
      "execution_count": 5,
      "outputs": [
        {
          "output_type": "stream",
          "text": [
            "79\n"
          ],
          "name": "stdout"
        }
      ]
    },
    {
      "cell_type": "markdown",
      "metadata": {
        "id": "-3KHtOOoXJBV"
      },
      "source": [
        "## Q6.\n",
        "> 리스트 중에서 홀수에만 2를 곱하여 저장하는 다음 코드가 있다.\n",
        "```\n",
        "numbers = [1, 2, 3, 4, 5, 6, 7, 8, 9]\n",
        "result = []\n",
        "for n in numbers:\n",
        "    if n % 2 == 1:\n",
        "        result.append(n*2)\n",
        "```\n",
        "\n",
        "- 위 코드를 리스트 내포(list comprehension)를 사용하여 표현해 보자."
      ]
    },
    {
      "cell_type": "code",
      "metadata": {
        "id": "AjYR0lUaXJBa",
        "colab": {
          "base_uri": "https://localhost:8080/"
        },
        "outputId": "8c61373e-8a78-43a8-aeb9-062b2a55997f"
      },
      "source": [
        "# [Q6] Code\n",
        "numbers = [1, 2, 3, 4, 5, 6, 7, 8, 9]\n",
        "result = [n * 2 for n in numbers if n % 2 == 1]\n",
        "print(result)"
      ],
      "execution_count": 6,
      "outputs": [
        {
          "output_type": "stream",
          "text": [
            "[2, 6, 10, 14, 18]\n"
          ],
          "name": "stdout"
        }
      ]
    },
    {
      "cell_type": "markdown",
      "metadata": {
        "id": "YrS3b88QbmKo"
      },
      "source": [
        "## Q7.\n",
        "> ## [Challenge] 응용 코드 : 평균 성적을 구하시오.\n",
        "```\n",
        "subjects = ['파이썬', '영어', '수학', '물리']\n",
        "scores = [91, 67, 88, 75]\n",
        "```\n",
        "\n",
        "- 평균 성적을 세가지 이상의 방법으로 구하시오."
      ]
    },
    {
      "cell_type": "code",
      "metadata": {
        "id": "Ll_2InMWbmKq",
        "colab": {
          "base_uri": "https://localhost:8080/"
        },
        "outputId": "19c230c1-8487-4f5f-be28-e58af90790d9"
      },
      "source": [
        "# [Q7] Code-1\n",
        "subjects = ['파이썬', '영어', '수학', '물리']\n",
        "scores = [91, 67, 88, 75]\n",
        "sum = 0\n",
        "\n",
        "#과목과 점수 출력\n",
        "for index in range(len(subjects)):\n",
        "    sum += scores[index]\n",
        "    print(\"과목: {}, 점수: {}점\".format(subjects[index], scores[index]))\n",
        "print(\"----------------------------------\")\n",
        "print(\"4과목 성적의 평균은 {}점 입니다\".format(sum/len(subjects)))"
      ],
      "execution_count": 12,
      "outputs": [
        {
          "output_type": "stream",
          "text": [
            "과목: 파이썬, 점수: 91점\n",
            "과목: 영어, 점수: 67점\n",
            "과목: 수학, 점수: 88점\n",
            "과목: 물리, 점수: 75점\n",
            "----------------------------------\n",
            "4과목 성적의 평균은 80.25점 입니다\n"
          ],
          "name": "stdout"
        }
      ]
    },
    {
      "cell_type": "code",
      "metadata": {
        "id": "1Yl74HZQcWkw",
        "colab": {
          "base_uri": "https://localhost:8080/"
        },
        "outputId": "1df1a136-163d-41be-ffee-aba0a1e3961f"
      },
      "source": [
        "# [Q7] Code-2\n",
        "subjects = ['파이썬', '영어', '수학', '물리']\n",
        "scores = [91, 67, 88, 75]\n",
        "sum = 0\n",
        "for index, score in enumerate(scores):\n",
        "    sum += scores[index]\n",
        "    print(\"과목: {}, 점수: {}점\".format(subjects[index], score))\n",
        "print(\"----------------------------------\")\n",
        "print(\"4과목 성적의 평균은 {}점 입니다\".format(sum/len(subjects)))"
      ],
      "execution_count": 13,
      "outputs": [
        {
          "output_type": "stream",
          "text": [
            "과목: 파이썬, 점수: 91점\n",
            "과목: 영어, 점수: 67점\n",
            "과목: 수학, 점수: 88점\n",
            "과목: 물리, 점수: 75점\n",
            "----------------------------------\n",
            "4과목 성적의 평균은 80.25점 입니다\n"
          ],
          "name": "stdout"
        }
      ]
    },
    {
      "cell_type": "code",
      "metadata": {
        "id": "POKZZo1KcW0Q",
        "colab": {
          "base_uri": "https://localhost:8080/"
        },
        "outputId": "16940933-21ee-41e8-eaec-e0bc561122c6"
      },
      "source": [
        "# [Q7] Code-3\n",
        "subjects = ['파이썬', '영어', '수학', '물리']\n",
        "scores = [91, 67, 88, 75]\n",
        "sum = 0\n",
        "\n",
        "for subject,score in zip(subjects, scores):\n",
        "    sum += score\n",
        "    print(\"과목: {}, 점수: {}점\".format(subject,score))\n",
        "print(\"----------------------------------\")\n",
        "print(\"4과목 성적의 평균은 {}점 입니다\".format(sum/len(subjects)))\n"
      ],
      "execution_count": 14,
      "outputs": [
        {
          "output_type": "stream",
          "text": [
            "과목: 파이썬, 점수: 91점\n",
            "과목: 영어, 점수: 67점\n",
            "과목: 수학, 점수: 88점\n",
            "과목: 물리, 점수: 75점\n",
            "----------------------------------\n",
            "4과목 성적의 평균은 80.25점 입니다\n"
          ],
          "name": "stdout"
        }
      ]
    },
    {
      "cell_type": "markdown",
      "metadata": {
        "id": "2ljBDShkbqZO"
      },
      "source": [
        "## 코딩 연습 결과를 github에 올리기\n",
        "> 완성된 ipython 노트북 파일을 각자의 github에 올리시오.\n",
        "\n",
        "- github 계정 만들기 (계정이 없는 학생)\n",
        "    1. github에 sign up (Google gmail 계정을 이용해서 만드시오.)\n",
        "- github에 노트 올리기\n",
        "    2. github에 각자의 id로 repo를 만드시오. (한번 만들면 계속 재사용)\n",
        "    3. **github repo의 ch3 폴더에 연습문제 풀이 결과 노트를 올리시오.**\n",
        "        - **제출노트: ch3-exercises-id.ipynb**\n"
      ]
    }
  ]
}