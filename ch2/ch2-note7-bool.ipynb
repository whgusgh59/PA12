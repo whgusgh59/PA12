{
 "metadata": {
  "language_info": {
   "codemirror_mode": {
    "name": "ipython",
    "version": 3
   },
   "file_extension": ".py",
   "mimetype": "text/x-python",
   "name": "python",
   "nbconvert_exporter": "python",
   "pygments_lexer": "ipython3",
   "version": "3.8.5"
  },
  "orig_nbformat": 2,
  "kernelspec": {
   "name": "python385jvsc74a57bd0e29a241c9a662e08db1cb6d424d32065f6176add8d0f5cfed9679085d4447a77",
   "display_name": "Python 3.8.5 64-bit ('base': conda)"
  }
 },
 "nbformat": 4,
 "nbformat_minor": 2,
 "cells": [
  {
   "source": [
    "## ch2-note7-bool.ipynb by PA12"
   ],
   "cell_type": "markdown",
   "metadata": {}
  },
  {
   "source": [
    "## 불: 불 자료형이란?"
   ],
   "cell_type": "markdown",
   "metadata": {}
  },
  {
   "cell_type": "code",
   "execution_count": 1,
   "metadata": {},
   "outputs": [
    {
     "output_type": "execute_result",
     "data": {
      "text/plain": [
       "(bool, bool)"
      ]
     },
     "metadata": {},
     "execution_count": 1
    }
   ],
   "source": [
    "a = True\n",
    "b = False\n",
    "type(a), type(b)"
   ]
  },
  {
   "cell_type": "code",
   "execution_count": 2,
   "metadata": {},
   "outputs": [
    {
     "output_type": "execute_result",
     "data": {
      "text/plain": [
       "1"
      ]
     },
     "metadata": {},
     "execution_count": 2
    }
   ],
   "source": [
    "1 == 1\n",
    "2 > 1\n",
    "2 < 1\n",
    "True + 1\n",
    "False + 1"
   ]
  },
  {
   "cell_type": "code",
   "execution_count": 3,
   "metadata": {},
   "outputs": [
    {
     "output_type": "execute_result",
     "data": {
      "text/plain": [
       "False"
      ]
     },
     "metadata": {},
     "execution_count": 3
    }
   ],
   "source": [
    "bool(\"python\")\n",
    "bool(\"\")\n",
    "bool([1, 2, 3])\n",
    "bool([2, 3])\n",
    "bool([])\n",
    "bool(())\n",
    "bool({})\n",
    "bool(1)\n",
    "bool(0)\n",
    "bool(None)"
   ]
  },
  {
   "cell_type": "code",
   "execution_count": 5,
   "metadata": {},
   "outputs": [
    {
     "output_type": "stream",
     "name": "stdout",
     "text": [
      "4\n3\n2\n1\n"
     ]
    }
   ],
   "source": [
    "a = [1, 2, 3, 4]\n",
    "while a:\n",
    "    print(a.pop())"
   ]
  },
  {
   "cell_type": "code",
   "execution_count": 6,
   "metadata": {},
   "outputs": [
    {
     "output_type": "stream",
     "name": "stdout",
     "text": [
      "거짓\n"
     ]
    }
   ],
   "source": [
    "if []:\n",
    "    print(\"참\")\n",
    "else:\n",
    "    print(\"거짓\")"
   ]
  },
  {
   "cell_type": "code",
   "execution_count": 7,
   "metadata": {},
   "outputs": [
    {
     "output_type": "execute_result",
     "data": {
      "text/plain": [
       "(Decimal('3.140000000000000124344978758017532527446746826171875'),\n",
       " Decimal('2.7400000000000002131628207280300557613372802734375'))"
      ]
     },
     "metadata": {},
     "execution_count": 7
    }
   ],
   "source": [
    "import decimal\n",
    "x=decimal.Decimal(3.14)\n",
    "y=decimal.Decimal(2.74)\n",
    "x,y"
   ]
  },
  {
   "cell_type": "code",
   "execution_count": 8,
   "metadata": {},
   "outputs": [
    {
     "output_type": "execute_result",
     "data": {
      "text/plain": [
       "Decimal('8.603600000000001010036498883')"
      ]
     },
     "metadata": {},
     "execution_count": 8
    }
   ],
   "source": [
    "x*y"
   ]
  },
  {
   "cell_type": "code",
   "execution_count": 9,
   "metadata": {},
   "outputs": [
    {
     "output_type": "execute_result",
     "data": {
      "text/plain": [
       "Decimal('8.604')"
      ]
     },
     "metadata": {},
     "execution_count": 9
    }
   ],
   "source": [
    "decimal.getcontext().prec=4\n",
    "x*y"
   ]
  }
 ]
}